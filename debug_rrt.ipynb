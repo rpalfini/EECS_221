{
 "cells": [
  {
   "cell_type": "code",
   "execution_count": 34,
   "metadata": {},
   "outputs": [
    {
     "ename": "SyntaxError",
     "evalue": "Missing parentheses in call to 'print'. Did you mean print('Phase Two')? (rrt.py, line 100)",
     "output_type": "error",
     "traceback": [
      "Traceback \u001b[1;36m(most recent call last)\u001b[0m:\n",
      "  File \u001b[0;32mc:\\Users\\Robert\\anaconda3\\lib\\site-packages\\IPython\\core\\interactiveshell.py:3369\u001b[0m in \u001b[0;35mrun_code\u001b[0m\n    exec(code_obj, self.user_global_ns, self.user_ns)\n",
      "\u001b[1;36m  Input \u001b[1;32mIn [34]\u001b[1;36m in \u001b[1;35m<cell line: 2>\u001b[1;36m\u001b[0m\n\u001b[1;33m    from src.TurtleBot.scripts import rrt # change this to your import\u001b[0m\n",
      "\u001b[1;36m  File \u001b[1;32mc:\\Users\\Robert\\git\\EECS_221\\src\\TurtleBot\\scripts\\rrt.py:100\u001b[1;36m\u001b[0m\n\u001b[1;33m    print 'Phase Two'\u001b[0m\n\u001b[1;37m          ^\u001b[0m\n\u001b[1;31mSyntaxError\u001b[0m\u001b[1;31m:\u001b[0m Missing parentheses in call to 'print'. Did you mean print('Phase Two')?\n"
     ]
    }
   ],
   "source": [
    "import pickle\n",
    "from src.TurtleBot.scripts import rrt # change this to your import\n",
    "fname = \"C:/Users/Robert/git/EECS_221/rrt_main_20230517150806.pkl\"\n",
    "with open(fname,'rb') as file:\n",
    "    data = pickle.load(file)"
   ]
  },
  {
   "cell_type": "code",
   "execution_count": 30,
   "metadata": {},
   "outputs": [
    {
     "name": "stdout",
     "output_type": "stream",
     "text": [
      "dict_keys(['graph', 'path', 'start'])\n"
     ]
    }
   ],
   "source": [
    "print(data.keys())\n",
    "graph = data['graph']\n",
    "path = data['path']\n",
    "start = data['start']"
   ]
  },
  {
   "cell_type": "code",
   "execution_count": 31,
   "metadata": {},
   "outputs": [
    {
     "ename": "NameError",
     "evalue": "name 'rrt' is not defined",
     "output_type": "error",
     "traceback": [
      "\u001b[1;31m---------------------------------------------------------------------------\u001b[0m",
      "\u001b[1;31mNameError\u001b[0m                                 Traceback (most recent call last)",
      "\u001b[1;32mc:\\Users\\Robert\\git\\EECS_221\\debug_rrt.ipynb Cell 3\u001b[0m in \u001b[0;36m<cell line: 1>\u001b[1;34m()\u001b[0m\n\u001b[1;32m----> <a href='vscode-notebook-cell:/c%3A/Users/Robert/git/EECS_221/debug_rrt.ipynb#W2sZmlsZQ%3D%3D?line=0'>1</a>\u001b[0m path \u001b[39m=\u001b[39m rrt\u001b[39m.\u001b[39msearchPath(graph,start,[start])\n\u001b[0;32m      <a href='vscode-notebook-cell:/c%3A/Users/Robert/git/EECS_221/debug_rrt.ipynb#W2sZmlsZQ%3D%3D?line=2'>3</a>\u001b[0m \u001b[39mprint\u001b[39m(path)\n",
      "\u001b[1;31mNameError\u001b[0m: name 'rrt' is not defined"
     ]
    }
   ],
   "source": [
    "path = rrt.searchPath(graph,start,[start])\n",
    "\n",
    "print(path)"
   ]
  }
 ],
 "metadata": {
  "kernelspec": {
   "display_name": "Python 3",
   "language": "python",
   "name": "python3"
  },
  "language_info": {
   "codemirror_mode": {
    "name": "ipython",
    "version": 3
   },
   "file_extension": ".py",
   "mimetype": "text/x-python",
   "name": "python",
   "nbconvert_exporter": "python",
   "pygments_lexer": "ipython3",
   "version": "3.9.12"
  },
  "orig_nbformat": 4
 },
 "nbformat": 4,
 "nbformat_minor": 2
}
