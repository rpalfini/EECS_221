{
 "cells": [
  {
   "cell_type": "code",
   "execution_count": 14,
   "metadata": {},
   "outputs": [],
   "source": [
    "import pickle\n",
    "import numpy as np\n",
    "\n",
    "data_file = '/home/eecs195/Palfini_Robert_ws/map_node.pkl'\n",
    "with open(data_file,'rb') as f:\n",
    "    data = pickle.load(f, encoding = 'latin1')\n"
   ]
  },
  {
   "cell_type": "code",
   "execution_count": 20,
   "metadata": {},
   "outputs": [
    {
     "name": "stdout",
     "output_type": "stream",
     "text": [
      "dict_keys(['map'])\n",
      "[ -1.   0. 100.]\n",
      "[144171   3085    200]\n"
     ]
    }
   ],
   "source": [
    "print(data.keys())\n",
    "unique_vals, val_counts = np.unique(data['map'],return_counts=True)\n",
    "print(3unique_vals)\n",
    "print(val_counts)"
   ]
  }
 ],
 "metadata": {
  "kernelspec": {
   "display_name": "py39",
   "language": "python",
   "name": "python3"
  },
  "language_info": {
   "codemirror_mode": {
    "name": "ipython",
    "version": 3
   },
   "file_extension": ".py",
   "mimetype": "text/x-python",
   "name": "python",
   "nbconvert_exporter": "python",
   "pygments_lexer": "ipython3",
   "version": "3.9.16"
  },
  "orig_nbformat": 4
 },
 "nbformat": 4,
 "nbformat_minor": 2
}
